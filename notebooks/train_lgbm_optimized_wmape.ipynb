{
  "nbformat": 4,
  "nbformat_minor": 0,
  "metadata": {
    "colab": {
      "provenance": [],
      "machine_shape": "hm",
      "gpuType": "T4"
    },
    "kernelspec": {
      "name": "python3",
      "display_name": "Python 3"
    },
    "language_info": {
      "name": "python"
    },
    "accelerator": "GPU",
    "widgets": {
      "application/vnd.jupyter.widget-state+json": {
        "2dcbae9317594b579672038f65b86693": {
          "model_module": "@jupyter-widgets/controls",
          "model_name": "FloatProgressModel",
          "model_module_version": "1.5.0",
          "state": {
            "_dom_classes": [],
            "_model_module": "@jupyter-widgets/controls",
            "_model_module_version": "1.5.0",
            "_model_name": "FloatProgressModel",
            "_view_count": null,
            "_view_module": "@jupyter-widgets/controls",
            "_view_module_version": "1.5.0",
            "_view_name": "ProgressView",
            "bar_style": "",
            "description": "",
            "description_tooltip": null,
            "layout": "IPY_MODEL_068ca19ac9e146998dc349ab50c2e774",
            "max": 100,
            "min": 0,
            "orientation": "horizontal",
            "style": "IPY_MODEL_ace48c063bad47feb9584f875bbc706b",
            "value": 100
          }
        },
        "068ca19ac9e146998dc349ab50c2e774": {
          "model_module": "@jupyter-widgets/base",
          "model_name": "LayoutModel",
          "model_module_version": "1.2.0",
          "state": {
            "_model_module": "@jupyter-widgets/base",
            "_model_module_version": "1.2.0",
            "_model_name": "LayoutModel",
            "_view_count": null,
            "_view_module": "@jupyter-widgets/base",
            "_view_module_version": "1.2.0",
            "_view_name": "LayoutView",
            "align_content": null,
            "align_items": null,
            "align_self": null,
            "border": null,
            "bottom": null,
            "display": null,
            "flex": null,
            "flex_flow": null,
            "grid_area": null,
            "grid_auto_columns": null,
            "grid_auto_flow": null,
            "grid_auto_rows": null,
            "grid_column": null,
            "grid_gap": null,
            "grid_row": null,
            "grid_template_areas": null,
            "grid_template_columns": null,
            "grid_template_rows": null,
            "height": null,
            "justify_content": null,
            "justify_items": null,
            "left": null,
            "margin": null,
            "max_height": null,
            "max_width": null,
            "min_height": null,
            "min_width": null,
            "object_fit": null,
            "object_position": null,
            "order": null,
            "overflow": null,
            "overflow_x": null,
            "overflow_y": null,
            "padding": null,
            "right": null,
            "top": null,
            "visibility": null,
            "width": "auto"
          }
        },
        "ace48c063bad47feb9584f875bbc706b": {
          "model_module": "@jupyter-widgets/controls",
          "model_name": "ProgressStyleModel",
          "model_module_version": "1.5.0",
          "state": {
            "_model_module": "@jupyter-widgets/controls",
            "_model_module_version": "1.5.0",
            "_model_name": "ProgressStyleModel",
            "_view_count": null,
            "_view_module": "@jupyter-widgets/base",
            "_view_module_version": "1.2.0",
            "_view_name": "StyleView",
            "bar_color": "black",
            "description_width": ""
          }
        }
      }
    }
  },
  "cells": [
    {
      "cell_type": "code",
      "execution_count": 1,
      "metadata": {
        "id": "7SjSB9bWA6nF"
      },
      "outputs": [],
      "source": [
        "!pip -q install --only-binary=:all: duckdb==1.0.0 lightgbm==4.3.0"
      ]
    },
    {
      "cell_type": "code",
      "source": [
        "import numpy as np\n",
        "import pandas as pd\n",
        "import duckdb\n",
        "import lightgbm as lgb\n",
        "from lightgbm import LGBMRegressor"
      ],
      "metadata": {
        "id": "9Xxp6Nv1BILC"
      },
      "execution_count": 2,
      "outputs": []
    },
    {
      "cell_type": "code",
      "source": [
        "print(duckdb.__version__)"
      ],
      "metadata": {
        "colab": {
          "base_uri": "https://localhost:8080/"
        },
        "id": "m0ldVGA3Bnwj",
        "outputId": "ae976e08-5a6d-42ac-9e72-90c3822adf49"
      },
      "execution_count": 3,
      "outputs": [
        {
          "output_type": "stream",
          "name": "stdout",
          "text": [
            "1.0.0\n"
          ]
        }
      ]
    },
    {
      "cell_type": "markdown",
      "source": [
        "# 1. Importando os arquivos"
      ],
      "metadata": {
        "id": "69OFIfSSYphe"
      }
    },
    {
      "cell_type": "code",
      "source": [
        "df27 = pd.read_parquet('part27.snappy.parquet')\n",
        "df51 = pd.read_parquet('part51.snappy.parquet')\n",
        "df71 = pd.read_parquet('part71.snappy.parquet')"
      ],
      "metadata": {
        "id": "Xv0dCz-sBNa9"
      },
      "execution_count": 4,
      "outputs": []
    },
    {
      "cell_type": "code",
      "source": [
        "df27.info()\n",
        "df51.info()\n",
        "df71.info()"
      ],
      "metadata": {
        "colab": {
          "base_uri": "https://localhost:8080/"
        },
        "id": "scACfycwBO2t",
        "outputId": "9843f9b7-c4d0-4c05-a7ce-578c87f3aec3"
      },
      "execution_count": 5,
      "outputs": [
        {
          "output_type": "stream",
          "name": "stdout",
          "text": [
            "<class 'pandas.core.frame.DataFrame'>\n",
            "RangeIndex: 14419 entries, 0 to 14418\n",
            "Data columns (total 4 columns):\n",
            " #   Column         Non-Null Count  Dtype \n",
            "---  ------         --------------  ----- \n",
            " 0   pdv            14419 non-null  object\n",
            " 1   premise        14419 non-null  object\n",
            " 2   categoria_pdv  14419 non-null  object\n",
            " 3   zipcode        14419 non-null  int32 \n",
            "dtypes: int32(1), object(3)\n",
            "memory usage: 394.4+ KB\n",
            "<class 'pandas.core.frame.DataFrame'>\n",
            "RangeIndex: 6560698 entries, 0 to 6560697\n",
            "Data columns (total 11 columns):\n",
            " #   Column               Dtype  \n",
            "---  ------               -----  \n",
            " 0   internal_store_id    object \n",
            " 1   internal_product_id  object \n",
            " 2   distributor_id       object \n",
            " 3   transaction_date     object \n",
            " 4   reference_date       object \n",
            " 5   quantity             float64\n",
            " 6   gross_value          float64\n",
            " 7   net_value            float64\n",
            " 8   gross_profit         float64\n",
            " 9   discount             float64\n",
            " 10  taxes                float64\n",
            "dtypes: float64(6), object(5)\n",
            "memory usage: 550.6+ MB\n",
            "<class 'pandas.core.frame.DataFrame'>\n",
            "RangeIndex: 7092 entries, 0 to 7091\n",
            "Data columns (total 8 columns):\n",
            " #   Column        Non-Null Count  Dtype \n",
            "---  ------        --------------  ----- \n",
            " 0   produto       7092 non-null   object\n",
            " 1   categoria     7092 non-null   object\n",
            " 2   descricao     7092 non-null   object\n",
            " 3   tipos         7092 non-null   object\n",
            " 4   label         5619 non-null   object\n",
            " 5   subcategoria  7060 non-null   object\n",
            " 6   marca         7092 non-null   object\n",
            " 7   fabricante    7092 non-null   object\n",
            "dtypes: object(8)\n",
            "memory usage: 443.4+ KB\n"
          ]
        }
      ]
    },
    {
      "cell_type": "markdown",
      "source": [
        "# 2. Fazendo o join entre as tabelas"
      ],
      "metadata": {
        "id": "Yu6TvVh6YweP"
      }
    },
    {
      "cell_type": "markdown",
      "source": [
        "Utilizamos Duck DB nessa versão ao invés de PySpark e Pandas para fazer os joins e agregações"
      ],
      "metadata": {
        "id": "ofaTGnQ3MImU"
      }
    },
    {
      "cell_type": "code",
      "source": [
        "con = duckdb.connect()\n",
        "con.register(\"tx\", df51)\n",
        "con.register(\"st\", df27.rename(columns={\"pdv\":\"internal_store_id\"}))\n",
        "con.register(\"pr\", df71.rename(columns={\"produto\":\"internal_product_id\"}))\n",
        "\n",
        "# Query built by the AI\n",
        "weekly = con.execute(\"\"\"\n",
        "WITH txc AS (\n",
        "  SELECT\n",
        "    internal_store_id,\n",
        "    internal_product_id,\n",
        "    CAST(transaction_date AS TIMESTAMP) AS dt,\n",
        "    CAST(quantity       AS DOUBLE) AS qty,\n",
        "    CAST(gross_value    AS DOUBLE) AS gross_value,\n",
        "    CAST(net_value      AS DOUBLE) AS net_value,\n",
        "    CAST(gross_profit   AS DOUBLE) AS gross_profit,\n",
        "    CAST(discount       AS DOUBLE) AS discount,\n",
        "    CAST(taxes          AS DOUBLE) AS taxes\n",
        "  FROM tx\n",
        "  -- don't rely on the SELECT alias 'dt' in WHERE; filter on the original column\n",
        "  WHERE transaction_date >= DATE '2022-01-01'\n",
        "    AND transaction_date <  DATE '2023-01-01'\n",
        "),\n",
        "txw AS (\n",
        "  SELECT\n",
        "    internal_store_id,\n",
        "    internal_product_id,\n",
        "    (CAST(date_trunc('week', dt) AS DATE) + INTERVAL 6 DAY) AS week_end,  -- W-SAT\n",
        "    SUM(qty) AS quantidade,\n",
        "    AVG(CASE WHEN qty > 0 THEN gross_value/qty END) AS price_gross,\n",
        "    AVG(CASE WHEN qty > 0 THEN net_value/qty   END) AS price_net,\n",
        "    AVG(CASE WHEN qty > 0 THEN gross_profit/qty END) AS margin,\n",
        "    AVG(discount) AS disc,\n",
        "    AVG(taxes)    AS taxes\n",
        "  FROM txc\n",
        "  GROUP BY 1,2,3\n",
        "),\n",
        "joined AS (\n",
        "  SELECT\n",
        "    w.internal_store_id AS pdv,\n",
        "    w.internal_product_id AS produto,\n",
        "    w.week_end, w.quantidade, w.price_gross, w.price_net, w.margin, w.disc, w.taxes,\n",
        "    s.premise, s.categoria_pdv, s.zipcode,\n",
        "    p.categoria, p.tipos, p.label, p.subcategoria, p.marca, p.fabricante\n",
        "  FROM txw w\n",
        "  LEFT JOIN st s ON w.internal_store_id  = s.internal_store_id\n",
        "  LEFT JOIN pr p ON w.internal_product_id = p.internal_product_id\n",
        ")\n",
        "SELECT * FROM joined\n",
        "ORDER BY pdv, produto, week_end\n",
        "\"\"\").df()"
      ],
      "metadata": {
        "colab": {
          "base_uri": "https://localhost:8080/",
          "height": 49,
          "referenced_widgets": [
            "2dcbae9317594b579672038f65b86693",
            "068ca19ac9e146998dc349ab50c2e774",
            "ace48c063bad47feb9584f875bbc706b"
          ]
        },
        "id": "9EOBS3aMB-8l",
        "outputId": "ecbf6726-fe3e-4618-b6cd-22eb014637d9"
      },
      "execution_count": 6,
      "outputs": [
        {
          "output_type": "display_data",
          "data": {
            "text/plain": [
              "FloatProgress(value=0.0, layout=Layout(width='auto'), style=ProgressStyle(bar_color='black'))"
            ],
            "application/vnd.jupyter.widget-view+json": {
              "version_major": 2,
              "version_minor": 0,
              "model_id": "2dcbae9317594b579672038f65b86693"
            }
          },
          "metadata": {}
        }
      ]
    },
    {
      "cell_type": "code",
      "source": [
        "# basic cleaning / types\n",
        "num_cols = [\"quantidade\",\"price_gross\",\"price_net\",\"margin\",\"disc\",\"taxes\",\"zipcode\"]\n",
        "for c in num_cols:\n",
        "    if c in weekly.columns:\n",
        "        weekly[c] = pd.to_numeric(weekly[c], errors=\"coerce\").fillna(0)\n",
        "\n",
        "weekly[\"pdv\"] = weekly[\"pdv\"].astype(str)\n",
        "weekly[\"produto\"] = weekly[\"produto\"].astype(str)\n",
        "weekly[\"week_end\"] = pd.to_datetime(weekly[\"week_end\"])\n",
        "\n",
        "print(\"weekly rows:\", len(weekly), \"pairs:\", weekly[[\"pdv\",\"produto\"]].drop_duplicates().shape[0])"
      ],
      "metadata": {
        "colab": {
          "base_uri": "https://localhost:8080/"
        },
        "id": "NQEg5_z6CCQu",
        "outputId": "ea4ceafb-2727-47ab-bf89-5373fb51276f"
      },
      "execution_count": 7,
      "outputs": [
        {
          "output_type": "stream",
          "name": "stdout",
          "text": [
            "weekly rows: 6247301 pairs: 1044310\n"
          ]
        }
      ]
    },
    {
      "cell_type": "code",
      "source": [
        "# keep only pairs with any 2022 sales\n",
        "pair_sum = weekly.groupby([\"pdv\",\"produto\"])[\"quantidade\"].sum()\n",
        "active_pairs = set(pair_sum[pair_sum > 0].index)\n",
        "weekly = weekly[weekly[[\"pdv\",\"produto\"]].apply(tuple, axis=1).isin(active_pairs)].reset_index(drop=True)\n",
        "\n",
        "# downcast numerics\n",
        "for c in weekly.select_dtypes(\"float64\").columns:\n",
        "    weekly[c] = pd.to_numeric(weekly[c], downcast=\"float\")\n",
        "for c in weekly.select_dtypes(\"int64\").columns:\n",
        "    weekly[c] = pd.to_numeric(weekly[c], downcast=\"integer\")\n",
        "\n",
        "print(\"after prune:\", weekly.shape)"
      ],
      "metadata": {
        "colab": {
          "base_uri": "https://localhost:8080/"
        },
        "id": "KJvKGqdECD4R",
        "outputId": "985f30ec-cb62-4763-917b-be5990e9b0ea"
      },
      "execution_count": 8,
      "outputs": [
        {
          "output_type": "stream",
          "name": "stdout",
          "text": [
            "after prune: (6183034, 18)\n"
          ]
        }
      ]
    },
    {
      "cell_type": "code",
      "source": [
        "# Clip negatives at source\n",
        "neg_before = int((weekly[\"quantidade\"] < 0).sum())\n",
        "weekly[\"quantidade_raw\"] = weekly[\"quantidade\"]\n",
        "weekly[\"quantidade\"] = weekly[\"quantidade\"].clip(lower=0)\n",
        "print(f\"Negative weekly sums before clip: {neg_before}  | after clip: {(weekly['quantidade'] < 0).sum()}\")"
      ],
      "metadata": {
        "colab": {
          "base_uri": "https://localhost:8080/"
        },
        "id": "o-nwtcgGCGaL",
        "outputId": "30ef7355-cf95-419f-9982-1e842ca9eb37"
      },
      "execution_count": 9,
      "outputs": [
        {
          "output_type": "stream",
          "name": "stdout",
          "text": [
            "Negative weekly sums before clip: 35463  | after clip: 0\n"
          ]
        }
      ]
    },
    {
      "cell_type": "markdown",
      "source": [
        "Feature engineering (lags/rolls): still important"
      ],
      "metadata": {
        "id": "11UKVMPvY6fE"
      }
    },
    {
      "cell_type": "code",
      "source": [
        "def add_feats(df):\n",
        "    df = df.sort_values([\"pdv\",\"produto\",\"week_end\"]).copy()\n",
        "    g = df.groupby([\"pdv\",\"produto\"], sort=False)\n",
        "    df[\"lag1\"] = g[\"quantidade\"].shift(1)\n",
        "    df[\"lag2\"] = g[\"quantidade\"].shift(2)\n",
        "    df[\"lag3\"] = g[\"quantidade\"].shift(3)\n",
        "    df[\"lag4\"] = g[\"quantidade\"].shift(4)\n",
        "    df[\"rmean4\"]  = g[\"quantidade\"].rolling(4, min_periods=1).mean().reset_index(level=[0,1], drop=True).shift(1)\n",
        "    df[\"rmean12\"] = g[\"quantidade\"].rolling(12, min_periods=1).mean().reset_index(level=[0,1], drop=True).shift(1)\n",
        "    for c in [\"price_gross\",\"price_net\",\"margin\",\"disc\",\"taxes\"]:\n",
        "        if c in df.columns:\n",
        "            df[f\"{c}_lag1\"] = g[c].shift(1)\n",
        "    # context (fallbacks)\n",
        "    df[\"store_rmean4\"] = df.groupby(\"pdv\")[\"quantidade\"].rolling(4, min_periods=1).mean().reset_index(level=0, drop=True).shift(1)\n",
        "    df[\"prod_rmean4\"]  = df.groupby(\"produto\")[\"quantidade\"].rolling(4, min_periods=1).mean().reset_index(level=0, drop=True).shift(1)\n",
        "    return df\n",
        "\n",
        "weekly = add_feats(weekly)"
      ],
      "metadata": {
        "id": "6ieVDUEwCKVc"
      },
      "execution_count": 10,
      "outputs": []
    },
    {
      "cell_type": "code",
      "source": [
        "# One-step-ahead target (and clip target to non-negative)\n",
        "weekly[\"target_next\"] = weekly.groupby([\"pdv\",\"produto\"])[\"quantidade\"].shift(-1)\n",
        "weekly[\"target_next\"] = weekly[\"target_next\"].clip(lower=0)"
      ],
      "metadata": {
        "id": "-RxmfKh5CPVg"
      },
      "execution_count": 11,
      "outputs": []
    },
    {
      "cell_type": "code",
      "source": [
        "train_df = weekly.dropna(subset=[\"lag1\",\"target_next\"]).copy()"
      ],
      "metadata": {
        "id": "0RpaANdHCRHo"
      },
      "execution_count": 12,
      "outputs": []
    },
    {
      "cell_type": "code",
      "source": [
        "# Categoricals\n",
        "cat_cols = [\"pdv\",\"produto\",\"premise\",\"categoria_pdv\",\"categoria\",\"tipos\",\"label\",\"subcategoria\",\"marca\",\"fabricante\"]\n",
        "for c in cat_cols:\n",
        "    if c in train_df.columns:\n",
        "        train_df[c] = train_df[c].astype(\"category\")"
      ],
      "metadata": {
        "id": "N2RdtRTRCS_k"
      },
      "execution_count": 13,
      "outputs": []
    },
    {
      "cell_type": "code",
      "source": [
        "# Time index (no holidays)\n",
        "train_df[\"week_ord\"] = train_df[\"week_end\"].astype(\"int64\") // 10**9"
      ],
      "metadata": {
        "id": "aqZqz4PWCXG3"
      },
      "execution_count": 14,
      "outputs": []
    },
    {
      "cell_type": "code",
      "source": [
        "feature_cols = [\n",
        "    \"pdv\",\"produto\",\"week_ord\",\n",
        "    \"lag1\",\"lag2\",\"lag3\",\"lag4\",\"rmean4\",\"rmean12\",\n",
        "    \"price_gross\",\"price_net\",\"margin\",\"disc\",\"taxes\",\n",
        "    \"price_gross_lag1\",\"price_net_lag1\",\"margin_lag1\",\"disc_lag1\",\"taxes_lag1\",\n",
        "    \"store_rmean4\",\"prod_rmean4\",\n",
        "    \"premise\",\"categoria_pdv\",\"categoria\",\"tipos\",\"label\",\"subcategoria\",\"marca\",\"fabricante\",\n",
        "    \"zipcode\",\n",
        "]\n",
        "feature_cols = [c for c in feature_cols if c in train_df.columns]\n",
        "\n",
        "X = train_df[feature_cols].copy()\n",
        "y = train_df[\"target_next\"].astype(float).values\n",
        "\n",
        "cutoff = weekly[\"week_end\"].max() - pd.Timedelta(weeks=4)\n",
        "mask_val = train_df[\"week_end\"] > cutoff\n",
        "X_tr, y_tr = X[~mask_val], y[~mask_val]\n",
        "X_val, y_val = X[mask_val],  y[mask_val]\n",
        "\n",
        "# Downcast to save RAM\n",
        "for df_ in (X_tr, X_val):\n",
        "    for c in df_.select_dtypes(\"float64\").columns:\n",
        "        df_[c] = pd.to_numeric(df_[c], downcast=\"float\")\n",
        "    for c in df_.select_dtypes(\"int64\").columns:\n",
        "        df_[c] = pd.to_numeric(df_[c], downcast=\"integer\")"
      ],
      "metadata": {
        "id": "5Aw-CmaeCbP2",
        "colab": {
          "base_uri": "https://localhost:8080/"
        },
        "outputId": "0142529e-f3a7-4ea8-bd0f-d64eb349f90f"
      },
      "execution_count": 15,
      "outputs": [
        {
          "output_type": "stream",
          "name": "stderr",
          "text": [
            "/tmp/ipython-input-3349116248.py:23: SettingWithCopyWarning: \n",
            "A value is trying to be set on a copy of a slice from a DataFrame.\n",
            "Try using .loc[row_indexer,col_indexer] = value instead\n",
            "\n",
            "See the caveats in the documentation: https://pandas.pydata.org/pandas-docs/stable/user_guide/indexing.html#returning-a-view-versus-a-copy\n",
            "  df_[c] = pd.to_numeric(df_[c], downcast=\"float\")\n",
            "/tmp/ipython-input-3349116248.py:23: SettingWithCopyWarning: \n",
            "A value is trying to be set on a copy of a slice from a DataFrame.\n",
            "Try using .loc[row_indexer,col_indexer] = value instead\n",
            "\n",
            "See the caveats in the documentation: https://pandas.pydata.org/pandas-docs/stable/user_guide/indexing.html#returning-a-view-versus-a-copy\n",
            "  df_[c] = pd.to_numeric(df_[c], downcast=\"float\")\n",
            "/tmp/ipython-input-3349116248.py:23: SettingWithCopyWarning: \n",
            "A value is trying to be set on a copy of a slice from a DataFrame.\n",
            "Try using .loc[row_indexer,col_indexer] = value instead\n",
            "\n",
            "See the caveats in the documentation: https://pandas.pydata.org/pandas-docs/stable/user_guide/indexing.html#returning-a-view-versus-a-copy\n",
            "  df_[c] = pd.to_numeric(df_[c], downcast=\"float\")\n",
            "/tmp/ipython-input-3349116248.py:23: SettingWithCopyWarning: \n",
            "A value is trying to be set on a copy of a slice from a DataFrame.\n",
            "Try using .loc[row_indexer,col_indexer] = value instead\n",
            "\n",
            "See the caveats in the documentation: https://pandas.pydata.org/pandas-docs/stable/user_guide/indexing.html#returning-a-view-versus-a-copy\n",
            "  df_[c] = pd.to_numeric(df_[c], downcast=\"float\")\n",
            "/tmp/ipython-input-3349116248.py:23: SettingWithCopyWarning: \n",
            "A value is trying to be set on a copy of a slice from a DataFrame.\n",
            "Try using .loc[row_indexer,col_indexer] = value instead\n",
            "\n",
            "See the caveats in the documentation: https://pandas.pydata.org/pandas-docs/stable/user_guide/indexing.html#returning-a-view-versus-a-copy\n",
            "  df_[c] = pd.to_numeric(df_[c], downcast=\"float\")\n",
            "/tmp/ipython-input-3349116248.py:23: SettingWithCopyWarning: \n",
            "A value is trying to be set on a copy of a slice from a DataFrame.\n",
            "Try using .loc[row_indexer,col_indexer] = value instead\n",
            "\n",
            "See the caveats in the documentation: https://pandas.pydata.org/pandas-docs/stable/user_guide/indexing.html#returning-a-view-versus-a-copy\n",
            "  df_[c] = pd.to_numeric(df_[c], downcast=\"float\")\n",
            "/tmp/ipython-input-3349116248.py:23: SettingWithCopyWarning: \n",
            "A value is trying to be set on a copy of a slice from a DataFrame.\n",
            "Try using .loc[row_indexer,col_indexer] = value instead\n",
            "\n",
            "See the caveats in the documentation: https://pandas.pydata.org/pandas-docs/stable/user_guide/indexing.html#returning-a-view-versus-a-copy\n",
            "  df_[c] = pd.to_numeric(df_[c], downcast=\"float\")\n",
            "/tmp/ipython-input-3349116248.py:23: SettingWithCopyWarning: \n",
            "A value is trying to be set on a copy of a slice from a DataFrame.\n",
            "Try using .loc[row_indexer,col_indexer] = value instead\n",
            "\n",
            "See the caveats in the documentation: https://pandas.pydata.org/pandas-docs/stable/user_guide/indexing.html#returning-a-view-versus-a-copy\n",
            "  df_[c] = pd.to_numeric(df_[c], downcast=\"float\")\n",
            "/tmp/ipython-input-3349116248.py:23: SettingWithCopyWarning: \n",
            "A value is trying to be set on a copy of a slice from a DataFrame.\n",
            "Try using .loc[row_indexer,col_indexer] = value instead\n",
            "\n",
            "See the caveats in the documentation: https://pandas.pydata.org/pandas-docs/stable/user_guide/indexing.html#returning-a-view-versus-a-copy\n",
            "  df_[c] = pd.to_numeric(df_[c], downcast=\"float\")\n",
            "/tmp/ipython-input-3349116248.py:23: SettingWithCopyWarning: \n",
            "A value is trying to be set on a copy of a slice from a DataFrame.\n",
            "Try using .loc[row_indexer,col_indexer] = value instead\n",
            "\n",
            "See the caveats in the documentation: https://pandas.pydata.org/pandas-docs/stable/user_guide/indexing.html#returning-a-view-versus-a-copy\n",
            "  df_[c] = pd.to_numeric(df_[c], downcast=\"float\")\n",
            "/tmp/ipython-input-3349116248.py:23: SettingWithCopyWarning: \n",
            "A value is trying to be set on a copy of a slice from a DataFrame.\n",
            "Try using .loc[row_indexer,col_indexer] = value instead\n",
            "\n",
            "See the caveats in the documentation: https://pandas.pydata.org/pandas-docs/stable/user_guide/indexing.html#returning-a-view-versus-a-copy\n",
            "  df_[c] = pd.to_numeric(df_[c], downcast=\"float\")\n",
            "/tmp/ipython-input-3349116248.py:23: SettingWithCopyWarning: \n",
            "A value is trying to be set on a copy of a slice from a DataFrame.\n",
            "Try using .loc[row_indexer,col_indexer] = value instead\n",
            "\n",
            "See the caveats in the documentation: https://pandas.pydata.org/pandas-docs/stable/user_guide/indexing.html#returning-a-view-versus-a-copy\n",
            "  df_[c] = pd.to_numeric(df_[c], downcast=\"float\")\n",
            "/tmp/ipython-input-3349116248.py:25: SettingWithCopyWarning: \n",
            "A value is trying to be set on a copy of a slice from a DataFrame.\n",
            "Try using .loc[row_indexer,col_indexer] = value instead\n",
            "\n",
            "See the caveats in the documentation: https://pandas.pydata.org/pandas-docs/stable/user_guide/indexing.html#returning-a-view-versus-a-copy\n",
            "  df_[c] = pd.to_numeric(df_[c], downcast=\"integer\")\n",
            "/tmp/ipython-input-3349116248.py:23: SettingWithCopyWarning: \n",
            "A value is trying to be set on a copy of a slice from a DataFrame.\n",
            "Try using .loc[row_indexer,col_indexer] = value instead\n",
            "\n",
            "See the caveats in the documentation: https://pandas.pydata.org/pandas-docs/stable/user_guide/indexing.html#returning-a-view-versus-a-copy\n",
            "  df_[c] = pd.to_numeric(df_[c], downcast=\"float\")\n",
            "/tmp/ipython-input-3349116248.py:23: SettingWithCopyWarning: \n",
            "A value is trying to be set on a copy of a slice from a DataFrame.\n",
            "Try using .loc[row_indexer,col_indexer] = value instead\n",
            "\n",
            "See the caveats in the documentation: https://pandas.pydata.org/pandas-docs/stable/user_guide/indexing.html#returning-a-view-versus-a-copy\n",
            "  df_[c] = pd.to_numeric(df_[c], downcast=\"float\")\n",
            "/tmp/ipython-input-3349116248.py:23: SettingWithCopyWarning: \n",
            "A value is trying to be set on a copy of a slice from a DataFrame.\n",
            "Try using .loc[row_indexer,col_indexer] = value instead\n",
            "\n",
            "See the caveats in the documentation: https://pandas.pydata.org/pandas-docs/stable/user_guide/indexing.html#returning-a-view-versus-a-copy\n",
            "  df_[c] = pd.to_numeric(df_[c], downcast=\"float\")\n",
            "/tmp/ipython-input-3349116248.py:23: SettingWithCopyWarning: \n",
            "A value is trying to be set on a copy of a slice from a DataFrame.\n",
            "Try using .loc[row_indexer,col_indexer] = value instead\n",
            "\n",
            "See the caveats in the documentation: https://pandas.pydata.org/pandas-docs/stable/user_guide/indexing.html#returning-a-view-versus-a-copy\n",
            "  df_[c] = pd.to_numeric(df_[c], downcast=\"float\")\n",
            "/tmp/ipython-input-3349116248.py:23: SettingWithCopyWarning: \n",
            "A value is trying to be set on a copy of a slice from a DataFrame.\n",
            "Try using .loc[row_indexer,col_indexer] = value instead\n",
            "\n",
            "See the caveats in the documentation: https://pandas.pydata.org/pandas-docs/stable/user_guide/indexing.html#returning-a-view-versus-a-copy\n",
            "  df_[c] = pd.to_numeric(df_[c], downcast=\"float\")\n",
            "/tmp/ipython-input-3349116248.py:23: SettingWithCopyWarning: \n",
            "A value is trying to be set on a copy of a slice from a DataFrame.\n",
            "Try using .loc[row_indexer,col_indexer] = value instead\n",
            "\n",
            "See the caveats in the documentation: https://pandas.pydata.org/pandas-docs/stable/user_guide/indexing.html#returning-a-view-versus-a-copy\n",
            "  df_[c] = pd.to_numeric(df_[c], downcast=\"float\")\n",
            "/tmp/ipython-input-3349116248.py:23: SettingWithCopyWarning: \n",
            "A value is trying to be set on a copy of a slice from a DataFrame.\n",
            "Try using .loc[row_indexer,col_indexer] = value instead\n",
            "\n",
            "See the caveats in the documentation: https://pandas.pydata.org/pandas-docs/stable/user_guide/indexing.html#returning-a-view-versus-a-copy\n",
            "  df_[c] = pd.to_numeric(df_[c], downcast=\"float\")\n",
            "/tmp/ipython-input-3349116248.py:23: SettingWithCopyWarning: \n",
            "A value is trying to be set on a copy of a slice from a DataFrame.\n",
            "Try using .loc[row_indexer,col_indexer] = value instead\n",
            "\n",
            "See the caveats in the documentation: https://pandas.pydata.org/pandas-docs/stable/user_guide/indexing.html#returning-a-view-versus-a-copy\n",
            "  df_[c] = pd.to_numeric(df_[c], downcast=\"float\")\n",
            "/tmp/ipython-input-3349116248.py:23: SettingWithCopyWarning: \n",
            "A value is trying to be set on a copy of a slice from a DataFrame.\n",
            "Try using .loc[row_indexer,col_indexer] = value instead\n",
            "\n",
            "See the caveats in the documentation: https://pandas.pydata.org/pandas-docs/stable/user_guide/indexing.html#returning-a-view-versus-a-copy\n",
            "  df_[c] = pd.to_numeric(df_[c], downcast=\"float\")\n",
            "/tmp/ipython-input-3349116248.py:23: SettingWithCopyWarning: \n",
            "A value is trying to be set on a copy of a slice from a DataFrame.\n",
            "Try using .loc[row_indexer,col_indexer] = value instead\n",
            "\n",
            "See the caveats in the documentation: https://pandas.pydata.org/pandas-docs/stable/user_guide/indexing.html#returning-a-view-versus-a-copy\n",
            "  df_[c] = pd.to_numeric(df_[c], downcast=\"float\")\n",
            "/tmp/ipython-input-3349116248.py:23: SettingWithCopyWarning: \n",
            "A value is trying to be set on a copy of a slice from a DataFrame.\n",
            "Try using .loc[row_indexer,col_indexer] = value instead\n",
            "\n",
            "See the caveats in the documentation: https://pandas.pydata.org/pandas-docs/stable/user_guide/indexing.html#returning-a-view-versus-a-copy\n",
            "  df_[c] = pd.to_numeric(df_[c], downcast=\"float\")\n",
            "/tmp/ipython-input-3349116248.py:23: SettingWithCopyWarning: \n",
            "A value is trying to be set on a copy of a slice from a DataFrame.\n",
            "Try using .loc[row_indexer,col_indexer] = value instead\n",
            "\n",
            "See the caveats in the documentation: https://pandas.pydata.org/pandas-docs/stable/user_guide/indexing.html#returning-a-view-versus-a-copy\n",
            "  df_[c] = pd.to_numeric(df_[c], downcast=\"float\")\n",
            "/tmp/ipython-input-3349116248.py:25: SettingWithCopyWarning: \n",
            "A value is trying to be set on a copy of a slice from a DataFrame.\n",
            "Try using .loc[row_indexer,col_indexer] = value instead\n",
            "\n",
            "See the caveats in the documentation: https://pandas.pydata.org/pandas-docs/stable/user_guide/indexing.html#returning-a-view-versus-a-copy\n",
            "  df_[c] = pd.to_numeric(df_[c], downcast=\"integer\")\n"
          ]
        }
      ]
    },
    {
      "cell_type": "markdown",
      "source": [
        "# 3. Treinando o Modelo"
      ],
      "metadata": {
        "id": "2wZrfKbbHfoY"
      }
    },
    {
      "cell_type": "markdown",
      "source": [
        "early stopping determinado por wmape:\n",
        "\n"
      ],
      "metadata": {
        "id": "vEMEQuOR8tRp"
      }
    },
    {
      "cell_type": "code",
      "source": [
        "cat_used = [c for c in cat_cols if c in X_tr.columns]\n",
        "\n",
        "gpu_params = dict(\n",
        "    objective=\"poisson\" if y_tr.sum() > 0 else \"regression\",\n",
        "    metric=\"rmse\",\n",
        "    n_estimators=2000, learning_rate=0.05,\n",
        "    num_leaves=127, max_depth=-1, max_bin=255,\n",
        "    subsample=0.8, colsample_bytree=0.8,\n",
        "    min_data_in_leaf=100, min_child_weight=1e-2,\n",
        "    feature_pre_filter=False,\n",
        "    max_cat_threshold=64, max_cat_to_onehot=4, cat_smooth=10, min_data_per_group=200,\n",
        "    random_state=42, n_jobs=-1,\n",
        "    device_type=\"gpu\"   # try GPU, will fallback\n",
        ")\n",
        "cpu_params = {k:v for k,v in gpu_params.items() if k!=\"device_type\"}\n",
        "cpu_params.update(dict(force_col_wise=True))\n",
        "\n",
        "def lgb_wmape(y_true, y_pred):\n",
        "    denom = abs(y_true).sum() + 1e-9\n",
        "    return (\"wmape\", float(abs(y_true - y_pred).sum()/denom), False)\n",
        "\n",
        "callbacks = [lgb.early_stopping(100), lgb.log_evaluation(50)]\n",
        "\n",
        "try:\n",
        "    lgbm = LGBMRegressor(**gpu_params)\n",
        "    lgbm.fit(X_tr, y_tr, categorical_feature=cat_used,\n",
        "             eval_set=[(X_val, y_val)], eval_metric=[lgb_wmape, \"rmse\"],\n",
        "             callbacks=callbacks)\n",
        "    used_gpu = True\n",
        "except Exception as e:\n",
        "    print(\"GPU not available or failed, switching to CPU col-wise. Reason:\", str(e)[:160], \"...\")\n",
        "    lgbm = LGBMRegressor(**cpu_params)\n",
        "    lgbm.fit(X_tr, y_tr, categorical_feature=cat_used,\n",
        "             eval_set=[(X_val, y_val)], eval_metric=[lgb_wmape, \"rmse\"],\n",
        "             callbacks=callbacks)\n",
        "    used_gpu = False"
      ],
      "metadata": {
        "colab": {
          "base_uri": "https://localhost:8080/"
        },
        "id": "lNjZjncpCmb1",
        "outputId": "f0d6e355-e9b2-46ec-8cb2-c6463ef1ad0c"
      },
      "execution_count": 16,
      "outputs": [
        {
          "output_type": "stream",
          "name": "stdout",
          "text": [
            "[LightGBM] [Warning] min_data_in_leaf is set=100, min_child_samples=20 will be ignored. Current value: min_data_in_leaf=100\n",
            "[LightGBM] [Warning] Categorical features with more bins than the configured maximum bin number found.\n",
            "[LightGBM] [Warning] For categorical features, max_bin and max_bin_by_feature may be ignored with a large number of categories.\n",
            "[LightGBM] [Warning] min_data_in_leaf is set=100, min_child_samples=20 will be ignored. Current value: min_data_in_leaf=100\n",
            "[LightGBM] [Info] This is the GPU trainer!!\n",
            "[LightGBM] [Info] Total Bins 14557\n",
            "[LightGBM] [Info] Number of data points in the train set: 4384483, number of used features: 30\n",
            "GPU not available or failed, switching to CPU col-wise. Reason: No OpenCL device found ...\n",
            "[LightGBM] [Warning] min_data_in_leaf is set=100, min_child_samples=20 will be ignored. Current value: min_data_in_leaf=100\n",
            "[LightGBM] [Warning] Categorical features with more bins than the configured maximum bin number found.\n",
            "[LightGBM] [Warning] For categorical features, max_bin and max_bin_by_feature may be ignored with a large number of categories.\n",
            "[LightGBM] [Warning] min_data_in_leaf is set=100, min_child_samples=20 will be ignored. Current value: min_data_in_leaf=100\n",
            "[LightGBM] [Info] Total Bins 14557\n",
            "[LightGBM] [Info] Number of data points in the train set: 4384483, number of used features: 30\n",
            "[LightGBM] [Warning] min_data_in_leaf is set=100, min_child_samples=20 will be ignored. Current value: min_data_in_leaf=100\n",
            "[LightGBM] [Info] Start training from score 1.380749\n",
            "Training until validation scores don't improve for 100 rounds\n",
            "[50]\tvalid_0's rmse: 9.27843\tvalid_0's wmape: 0.480578\n",
            "[100]\tvalid_0's rmse: 9.14003\tvalid_0's wmape: 0.433045\n",
            "[150]\tvalid_0's rmse: 9.23336\tvalid_0's wmape: 0.424922\n",
            "Early stopping, best iteration is:\n",
            "[83]\tvalid_0's rmse: 9.10371\tvalid_0's wmape: 0.439784\n"
          ]
        }
      ]
    },
    {
      "cell_type": "code",
      "source": [
        "def wmape(y_true, y_pred):\n",
        "    denom = np.abs(y_true).sum() + 1e-9\n",
        "    return np.abs(y_true - y_pred).sum() / denom\n",
        "\n",
        "yhat_val = lgbm.predict(X_val)\n",
        "val_wmape = wmape(y_val, yhat_val)\n",
        "# least-squares shrink\n",
        "alpha = float((y_val @ yhat_val) / (yhat_val @ yhat_val + 1e-9))\n",
        "alpha = float(np.clip(alpha, 0.6, 1.1))\n",
        "print(f\"val WMAPE={val_wmape:.4f}, alpha={alpha:.3f}\")\n"
      ],
      "metadata": {
        "colab": {
          "base_uri": "https://localhost:8080/"
        },
        "id": "uSBTAClnCopI",
        "outputId": "a2933f8e-fb4f-4855-beac-f6d46e6fa624"
      },
      "execution_count": 17,
      "outputs": [
        {
          "output_type": "stream",
          "name": "stdout",
          "text": [
            "[LightGBM] [Warning] min_data_in_leaf is set=100, min_child_samples=20 will be ignored. Current value: min_data_in_leaf=100\n",
            "val WMAPE=0.4398, alpha=1.013\n"
          ]
        }
      ]
    },
    {
      "cell_type": "markdown",
      "source": [
        "# 4. Salvando o Modelo e Resultados"
      ],
      "metadata": {
        "id": "yQ0lFPFWKd7v"
      }
    },
    {
      "cell_type": "code",
      "source": [
        "import joblib\n",
        "\n",
        "filename = 'lgbm_model_opt.pkl'\n",
        "joblib.dump(lgbm, filename)"
      ],
      "metadata": {
        "colab": {
          "base_uri": "https://localhost:8080/"
        },
        "id": "a79TVllLHF1g",
        "outputId": "be750110-032b-4ae9-fe81-2256e6e494a9"
      },
      "execution_count": 18,
      "outputs": [
        {
          "output_type": "execute_result",
          "data": {
            "text/plain": [
              "['lgbm_model_opt.pkl']"
            ]
          },
          "metadata": {},
          "execution_count": 18
        }
      ]
    },
    {
      "cell_type": "code",
      "source": [
        "jan_we = pd.to_datetime([\"2023-01-07\",\"2023-01-14\",\"2023-01-21\",\"2023-01-28\",\"2023-02-04\"])\n",
        "history = weekly.copy()\n",
        "\n",
        "def next_inputs(hist, week_end):\n",
        "    # recompute lags from current history (observed + prior preds)\n",
        "    hist = hist.sort_values([\"pdv\",\"produto\",\"week_end\"]).copy()\n",
        "    hist = add_feats(hist)\n",
        "    last = (hist.sort_values(\"week_end\").groupby([\"pdv\",\"produto\"], as_index=False).tail(1)).copy()\n",
        "    # set future week\n",
        "    last[\"week_end\"] = pd.to_datetime(week_end)\n",
        "    last[\"week_ord\"] = last[\"week_end\"].view(\"int64\") // 10**9\n",
        "    # fill numeric NaNs\n",
        "    for c in [\"lag1\",\"lag2\",\"lag3\",\"lag4\",\"rmean4\",\"rmean12\",\n",
        "              \"price_gross\",\"price_net\",\"margin\",\"disc\",\"taxes\",\n",
        "              \"price_gross_lag1\",\"price_net_lag1\",\"margin_lag1\",\"disc_lag1\",\"taxes_lag1\",\n",
        "              \"store_rmean4\",\"prod_rmean4\",\"zipcode\",\"week_ord\"]:\n",
        "        if c in last.columns:\n",
        "            last[c] = pd.to_numeric(last[c], errors=\"coerce\").fillna(0)\n",
        "    # categoricals\n",
        "    for c in cat_cols:\n",
        "        if c in last.columns:\n",
        "            last[c] = last[c].astype(\"category\")\n",
        "    return last"
      ],
      "metadata": {
        "id": "8HAKAtzdIWcM"
      },
      "execution_count": 19,
      "outputs": []
    },
    {
      "cell_type": "code",
      "source": [
        "fcsts = []\n",
        "for we in jan_we:\n",
        "    base = next_inputs(history, we)\n",
        "    X_next = base[[c for c in feature_cols if c in base.columns]].copy()\n",
        "    yhat = lgbm.predict(X_next)\n",
        "    yhat = np.maximum(yhat, 0.0)\n",
        "    add = base[[\"pdv\",\"produto\",\"week_end\"]].copy()\n",
        "    add[\"quantidade\"] = yhat\n",
        "    # carry attributes forward (no holiday nonsense needed)\n",
        "    for c in [\"price_gross\",\"price_net\",\"margin\",\"disc\",\"taxes\",\n",
        "              \"premise\",\"categoria_pdv\",\"zipcode\",\"categoria\",\"tipos\",\"label\",\"subcategoria\",\"marca\",\"fabricante\"]:\n",
        "        if c in base.columns:\n",
        "            add[c] = base[c].values\n",
        "    history = pd.concat([history, add], ignore_index=True)\n",
        "    fcsts.append(add)\n",
        "\n",
        "jan_fcst = pd.concat(fcsts, ignore_index=True)"
      ],
      "metadata": {
        "colab": {
          "base_uri": "https://localhost:8080/"
        },
        "id": "z7vFGBj49g1I",
        "outputId": "7d3a0822-1638-43d7-986c-2354af98eb6a"
      },
      "execution_count": 20,
      "outputs": [
        {
          "output_type": "stream",
          "name": "stderr",
          "text": [
            "/tmp/ipython-input-518170517.py:11: FutureWarning: Series.view is deprecated and will be removed in a future version. Use ``astype`` as an alternative to change the dtype.\n",
            "  last[\"week_ord\"] = last[\"week_end\"].view(\"int64\") // 10**9\n"
          ]
        },
        {
          "output_type": "stream",
          "name": "stdout",
          "text": [
            "[LightGBM] [Warning] min_data_in_leaf is set=100, min_child_samples=20 will be ignored. Current value: min_data_in_leaf=100\n"
          ]
        },
        {
          "output_type": "stream",
          "name": "stderr",
          "text": [
            "/tmp/ipython-input-518170517.py:11: FutureWarning: Series.view is deprecated and will be removed in a future version. Use ``astype`` as an alternative to change the dtype.\n",
            "  last[\"week_ord\"] = last[\"week_end\"].view(\"int64\") // 10**9\n"
          ]
        },
        {
          "output_type": "stream",
          "name": "stdout",
          "text": [
            "[LightGBM] [Warning] min_data_in_leaf is set=100, min_child_samples=20 will be ignored. Current value: min_data_in_leaf=100\n"
          ]
        },
        {
          "output_type": "stream",
          "name": "stderr",
          "text": [
            "/tmp/ipython-input-518170517.py:11: FutureWarning: Series.view is deprecated and will be removed in a future version. Use ``astype`` as an alternative to change the dtype.\n",
            "  last[\"week_ord\"] = last[\"week_end\"].view(\"int64\") // 10**9\n"
          ]
        },
        {
          "output_type": "stream",
          "name": "stdout",
          "text": [
            "[LightGBM] [Warning] min_data_in_leaf is set=100, min_child_samples=20 will be ignored. Current value: min_data_in_leaf=100\n"
          ]
        },
        {
          "output_type": "stream",
          "name": "stderr",
          "text": [
            "/tmp/ipython-input-518170517.py:11: FutureWarning: Series.view is deprecated and will be removed in a future version. Use ``astype`` as an alternative to change the dtype.\n",
            "  last[\"week_ord\"] = last[\"week_end\"].view(\"int64\") // 10**9\n"
          ]
        },
        {
          "output_type": "stream",
          "name": "stdout",
          "text": [
            "[LightGBM] [Warning] min_data_in_leaf is set=100, min_child_samples=20 will be ignored. Current value: min_data_in_leaf=100\n"
          ]
        },
        {
          "output_type": "stream",
          "name": "stderr",
          "text": [
            "/tmp/ipython-input-518170517.py:11: FutureWarning: Series.view is deprecated and will be removed in a future version. Use ``astype`` as an alternative to change the dtype.\n",
            "  last[\"week_ord\"] = last[\"week_end\"].view(\"int64\") // 10**9\n"
          ]
        },
        {
          "output_type": "stream",
          "name": "stdout",
          "text": [
            "[LightGBM] [Warning] min_data_in_leaf is set=100, min_child_samples=20 will be ignored. Current value: min_data_in_leaf=100\n"
          ]
        }
      ]
    },
    {
      "cell_type": "code",
      "source": [
        "week_map = {\n",
        "    pd.Timestamp(\"2023-01-07\"): 1,\n",
        "    pd.Timestamp(\"2023-01-14\"): 2,\n",
        "    pd.Timestamp(\"2023-01-21\"): 3,\n",
        "    pd.Timestamp(\"2023-01-28\"): 4,\n",
        "    pd.Timestamp(\"2023-02-04\"): 5,\n",
        "}\n",
        "jan_fcst[\"semana\"] = jan_fcst[\"week_end\"].map(week_map)\n",
        "\n",
        "submission = (\n",
        "    jan_fcst.assign(quantidade=lambda d: np.rint(d[\"quantidade\"]).astype(int))\n",
        "            .rename(columns={\"pdv\":\"pdv\", \"produto\":\"produto\"})\n",
        "            [[\"semana\",\"pdv\",\"produto\",\"quantidade\"]]\n",
        "            .sort_values([\"semana\",\"pdv\",\"produto\"])\n",
        "            .reset_index(drop=True)\n",
        ")\n",
        "\n",
        "# keep only pairs seen in 2022\n",
        "seen_pairs = set(map(tuple, weekly[[\"pdv\",\"produto\"]].drop_duplicates().values))\n",
        "submission = submission[submission[[\"pdv\",\"produto\"]].apply(tuple, axis=1).isin(seen_pairs)]\n",
        "\n",
        "submission.to_parquet(\"submission.parquet\", index=False)\n",
        "submission.to_csv(\"submission.csv\", sep=\";\", index=False, encoding=\"utf-8\")"
      ],
      "metadata": {
        "id": "4UUuLcShIbeB"
      },
      "execution_count": 21,
      "outputs": []
    },
    {
      "cell_type": "code",
      "source": [
        "MAX_ROWS = 1_500_000\n",
        "WEEKS = 5\n",
        "MAX_PAIRS = MAX_ROWS // WEEKS"
      ],
      "metadata": {
        "id": "UaEhA5sWIh2M"
      },
      "execution_count": 22,
      "outputs": []
    },
    {
      "cell_type": "code",
      "source": [
        "last_week = pd.to_datetime(weekly[\"week_end\"].max())\n",
        "recent_cut = last_week - pd.Timedelta(weeks=12)\n",
        "\n",
        "weekly_recent = weekly[weekly[\"week_end\"] >= recent_cut]\n",
        "\n",
        "pair_total = (\n",
        "    weekly.groupby([\"pdv\",\"produto\"], as_index=False)[\"quantidade\"]\n",
        "          .sum().rename(columns={\"quantidade\":\"total_2022\"})\n",
        ")\n",
        "pair_recent = (\n",
        "    weekly_recent.groupby([\"pdv\",\"produto\"], as_index=False)[\"quantidade\"]\n",
        "                 .sum().rename(columns={\"quantidade\":\"recent_12w\"})\n",
        ")\n",
        "pair_last_sale = (\n",
        "    weekly.groupby([\"pdv\",\"produto\"], as_index=False)[\"week_end\"]\n",
        "          .max().rename(columns={\"week_end\":\"last_sale\"})\n",
        ")\n",
        "\n",
        "pair_stats = (\n",
        "    pair_total.merge(pair_recent, on=[\"pdv\",\"produto\"], how=\"left\")\n",
        "              .merge(pair_last_sale, on=[\"pdv\",\"produto\"], how=\"left\")\n",
        "              .fillna({\"recent_12w\":0})\n",
        ")"
      ],
      "metadata": {
        "id": "PwwpcsVD9qpR"
      },
      "execution_count": 23,
      "outputs": []
    },
    {
      "cell_type": "code",
      "source": [
        "# prioritize recent_12w, then total_2022, then recency of last sale\n",
        "pair_stats = pair_stats.sort_values(\n",
        "    [\"recent_12w\", \"total_2022\", \"last_sale\"],\n",
        "    ascending=[False, False, False]\n",
        ").reset_index(drop=True)\n",
        "\n",
        "n_pairs = min(len(pair_stats), MAX_PAIRS)\n",
        "top_pairs = pair_stats.iloc[:n_pairs, :][[\"pdv\",\"produto\"]]\n",
        "top_set = set(map(tuple, top_pairs.values))\n",
        "\n",
        "submission_capped = (\n",
        "    submission[submission[[\"pdv\",\"produto\"]].apply(tuple, axis=1).isin(top_set)]\n",
        "      .copy()\n",
        ")"
      ],
      "metadata": {
        "id": "UWn1ytJ9Irjd"
      },
      "execution_count": 24,
      "outputs": []
    },
    {
      "cell_type": "code",
      "source": [
        "submission_capped = submission_capped.drop_duplicates([\"semana\",\"pdv\",\"produto\"], keep=\"last\")"
      ],
      "metadata": {
        "id": "B2G4XCcSJV7c"
      },
      "execution_count": 25,
      "outputs": []
    },
    {
      "cell_type": "code",
      "source": [
        "for col in [\"semana\",\"pdv\",\"produto\",\"quantidade\"]:\n",
        "    submission_capped[col] = pd.to_numeric(submission_capped[col], errors=\"coerce\")\n",
        "if submission_capped[[\"semana\",\"pdv\",\"produto\",\"quantidade\"]].isnull().any().any():\n",
        "    bad = submission_capped[submission_capped[[\"semana\",\"pdv\",\"produto\",\"quantidade\"]].isnull().any(axis=1)]\n",
        "    print(\"WARNING: Some IDs/quantities could not be parsed to int. Showing first few bad rows:\")\n",
        "    print(bad.head())"
      ],
      "metadata": {
        "id": "1hrYZvTNI5LS"
      },
      "execution_count": 26,
      "outputs": []
    },
    {
      "cell_type": "code",
      "source": [
        "submission_capped = submission_capped.astype({\"semana\":\"int64\",\"pdv\":\"int64\",\"produto\":\"int64\",\"quantidade\":\"int64\"})"
      ],
      "metadata": {
        "id": "J5nZvAaEKGhp"
      },
      "execution_count": 27,
      "outputs": []
    },
    {
      "cell_type": "code",
      "source": [
        "rows_per_pair = submission_capped.groupby([\"pdv\",\"produto\"]).size().value_counts()\n",
        "rows_per_pair.head()"
      ],
      "metadata": {
        "colab": {
          "base_uri": "https://localhost:8080/",
          "height": 115
        },
        "id": "HNGBQVxTKH8i",
        "outputId": "e9330643-c765-4648-b906-dd8a1f0c12d7"
      },
      "execution_count": 28,
      "outputs": [
        {
          "output_type": "execute_result",
          "data": {
            "text/plain": [
              "5    300000\n",
              "Name: count, dtype: int64"
            ],
            "text/html": [
              "<div>\n",
              "<style scoped>\n",
              "    .dataframe tbody tr th:only-of-type {\n",
              "        vertical-align: middle;\n",
              "    }\n",
              "\n",
              "    .dataframe tbody tr th {\n",
              "        vertical-align: top;\n",
              "    }\n",
              "\n",
              "    .dataframe thead th {\n",
              "        text-align: right;\n",
              "    }\n",
              "</style>\n",
              "<table border=\"1\" class=\"dataframe\">\n",
              "  <thead>\n",
              "    <tr style=\"text-align: right;\">\n",
              "      <th></th>\n",
              "      <th>count</th>\n",
              "    </tr>\n",
              "  </thead>\n",
              "  <tbody>\n",
              "    <tr>\n",
              "      <th>5</th>\n",
              "      <td>300000</td>\n",
              "    </tr>\n",
              "  </tbody>\n",
              "</table>\n",
              "</div><br><label><b>dtype:</b> int64</label>"
            ]
          },
          "metadata": {},
          "execution_count": 28
        }
      ]
    },
    {
      "cell_type": "code",
      "source": [
        "submission_capped.to_parquet(\"submission_opt_wmape.parquet\", index=False)\n",
        "submission_capped.to_csv(\"submission_opt_wmape.csv\", sep=\";\", index=False, encoding=\"utf-8\")"
      ],
      "metadata": {
        "id": "3IgZD06CKJgH"
      },
      "execution_count": 29,
      "outputs": []
    },
    {
      "cell_type": "code",
      "source": [
        "submission_capped.describe()"
      ],
      "metadata": {
        "colab": {
          "base_uri": "https://localhost:8080/",
          "height": 300
        },
        "id": "Uw_AnkL6Pjl4",
        "outputId": "0e9e0049-7475-4c22-d3c3-143bb418c9f9"
      },
      "execution_count": 32,
      "outputs": [
        {
          "output_type": "execute_result",
          "data": {
            "text/plain": [
              "             semana           pdv       produto    quantidade\n",
              "count  1.500000e+06  1.500000e+06  1.500000e+06  1.500000e+06\n",
              "mean   3.000000e+00  4.665103e+18  4.366982e+18  7.751807e+00\n",
              "std    1.414214e+00  2.681667e+18  2.718340e+18  1.279625e+01\n",
              "min    1.000000e+00  1.833564e+15  7.798075e+15  1.000000e+00\n",
              "25%    2.000000e+00  2.357589e+18  1.835194e+18  2.000000e+00\n",
              "50%    3.000000e+00  4.689504e+18  4.101834e+18  4.000000e+00\n",
              "75%    4.000000e+00  7.062864e+18  6.760021e+18  9.000000e+00\n",
              "max    5.000000e+00  9.222990e+18  9.221123e+18  1.279000e+03"
            ],
            "text/html": [
              "\n",
              "  <div id=\"df-e0365e5c-2c73-4115-9dff-53ee8d75bd37\" class=\"colab-df-container\">\n",
              "    <div>\n",
              "<style scoped>\n",
              "    .dataframe tbody tr th:only-of-type {\n",
              "        vertical-align: middle;\n",
              "    }\n",
              "\n",
              "    .dataframe tbody tr th {\n",
              "        vertical-align: top;\n",
              "    }\n",
              "\n",
              "    .dataframe thead th {\n",
              "        text-align: right;\n",
              "    }\n",
              "</style>\n",
              "<table border=\"1\" class=\"dataframe\">\n",
              "  <thead>\n",
              "    <tr style=\"text-align: right;\">\n",
              "      <th></th>\n",
              "      <th>semana</th>\n",
              "      <th>pdv</th>\n",
              "      <th>produto</th>\n",
              "      <th>quantidade</th>\n",
              "    </tr>\n",
              "  </thead>\n",
              "  <tbody>\n",
              "    <tr>\n",
              "      <th>count</th>\n",
              "      <td>1.500000e+06</td>\n",
              "      <td>1.500000e+06</td>\n",
              "      <td>1.500000e+06</td>\n",
              "      <td>1.500000e+06</td>\n",
              "    </tr>\n",
              "    <tr>\n",
              "      <th>mean</th>\n",
              "      <td>3.000000e+00</td>\n",
              "      <td>4.665103e+18</td>\n",
              "      <td>4.366982e+18</td>\n",
              "      <td>7.751807e+00</td>\n",
              "    </tr>\n",
              "    <tr>\n",
              "      <th>std</th>\n",
              "      <td>1.414214e+00</td>\n",
              "      <td>2.681667e+18</td>\n",
              "      <td>2.718340e+18</td>\n",
              "      <td>1.279625e+01</td>\n",
              "    </tr>\n",
              "    <tr>\n",
              "      <th>min</th>\n",
              "      <td>1.000000e+00</td>\n",
              "      <td>1.833564e+15</td>\n",
              "      <td>7.798075e+15</td>\n",
              "      <td>1.000000e+00</td>\n",
              "    </tr>\n",
              "    <tr>\n",
              "      <th>25%</th>\n",
              "      <td>2.000000e+00</td>\n",
              "      <td>2.357589e+18</td>\n",
              "      <td>1.835194e+18</td>\n",
              "      <td>2.000000e+00</td>\n",
              "    </tr>\n",
              "    <tr>\n",
              "      <th>50%</th>\n",
              "      <td>3.000000e+00</td>\n",
              "      <td>4.689504e+18</td>\n",
              "      <td>4.101834e+18</td>\n",
              "      <td>4.000000e+00</td>\n",
              "    </tr>\n",
              "    <tr>\n",
              "      <th>75%</th>\n",
              "      <td>4.000000e+00</td>\n",
              "      <td>7.062864e+18</td>\n",
              "      <td>6.760021e+18</td>\n",
              "      <td>9.000000e+00</td>\n",
              "    </tr>\n",
              "    <tr>\n",
              "      <th>max</th>\n",
              "      <td>5.000000e+00</td>\n",
              "      <td>9.222990e+18</td>\n",
              "      <td>9.221123e+18</td>\n",
              "      <td>1.279000e+03</td>\n",
              "    </tr>\n",
              "  </tbody>\n",
              "</table>\n",
              "</div>\n",
              "    <div class=\"colab-df-buttons\">\n",
              "\n",
              "  <div class=\"colab-df-container\">\n",
              "    <button class=\"colab-df-convert\" onclick=\"convertToInteractive('df-e0365e5c-2c73-4115-9dff-53ee8d75bd37')\"\n",
              "            title=\"Convert this dataframe to an interactive table.\"\n",
              "            style=\"display:none;\">\n",
              "\n",
              "  <svg xmlns=\"http://www.w3.org/2000/svg\" height=\"24px\" viewBox=\"0 -960 960 960\">\n",
              "    <path d=\"M120-120v-720h720v720H120Zm60-500h600v-160H180v160Zm220 220h160v-160H400v160Zm0 220h160v-160H400v160ZM180-400h160v-160H180v160Zm440 0h160v-160H620v160ZM180-180h160v-160H180v160Zm440 0h160v-160H620v160Z\"/>\n",
              "  </svg>\n",
              "    </button>\n",
              "\n",
              "  <style>\n",
              "    .colab-df-container {\n",
              "      display:flex;\n",
              "      gap: 12px;\n",
              "    }\n",
              "\n",
              "    .colab-df-convert {\n",
              "      background-color: #E8F0FE;\n",
              "      border: none;\n",
              "      border-radius: 50%;\n",
              "      cursor: pointer;\n",
              "      display: none;\n",
              "      fill: #1967D2;\n",
              "      height: 32px;\n",
              "      padding: 0 0 0 0;\n",
              "      width: 32px;\n",
              "    }\n",
              "\n",
              "    .colab-df-convert:hover {\n",
              "      background-color: #E2EBFA;\n",
              "      box-shadow: 0px 1px 2px rgba(60, 64, 67, 0.3), 0px 1px 3px 1px rgba(60, 64, 67, 0.15);\n",
              "      fill: #174EA6;\n",
              "    }\n",
              "\n",
              "    .colab-df-buttons div {\n",
              "      margin-bottom: 4px;\n",
              "    }\n",
              "\n",
              "    [theme=dark] .colab-df-convert {\n",
              "      background-color: #3B4455;\n",
              "      fill: #D2E3FC;\n",
              "    }\n",
              "\n",
              "    [theme=dark] .colab-df-convert:hover {\n",
              "      background-color: #434B5C;\n",
              "      box-shadow: 0px 1px 3px 1px rgba(0, 0, 0, 0.15);\n",
              "      filter: drop-shadow(0px 1px 2px rgba(0, 0, 0, 0.3));\n",
              "      fill: #FFFFFF;\n",
              "    }\n",
              "  </style>\n",
              "\n",
              "    <script>\n",
              "      const buttonEl =\n",
              "        document.querySelector('#df-e0365e5c-2c73-4115-9dff-53ee8d75bd37 button.colab-df-convert');\n",
              "      buttonEl.style.display =\n",
              "        google.colab.kernel.accessAllowed ? 'block' : 'none';\n",
              "\n",
              "      async function convertToInteractive(key) {\n",
              "        const element = document.querySelector('#df-e0365e5c-2c73-4115-9dff-53ee8d75bd37');\n",
              "        const dataTable =\n",
              "          await google.colab.kernel.invokeFunction('convertToInteractive',\n",
              "                                                    [key], {});\n",
              "        if (!dataTable) return;\n",
              "\n",
              "        const docLinkHtml = 'Like what you see? Visit the ' +\n",
              "          '<a target=\"_blank\" href=https://colab.research.google.com/notebooks/data_table.ipynb>data table notebook</a>'\n",
              "          + ' to learn more about interactive tables.';\n",
              "        element.innerHTML = '';\n",
              "        dataTable['output_type'] = 'display_data';\n",
              "        await google.colab.output.renderOutput(dataTable, element);\n",
              "        const docLink = document.createElement('div');\n",
              "        docLink.innerHTML = docLinkHtml;\n",
              "        element.appendChild(docLink);\n",
              "      }\n",
              "    </script>\n",
              "  </div>\n",
              "\n",
              "\n",
              "    <div id=\"df-a91feb89-0b2b-4ef0-b9a6-fc15451b3b22\">\n",
              "      <button class=\"colab-df-quickchart\" onclick=\"quickchart('df-a91feb89-0b2b-4ef0-b9a6-fc15451b3b22')\"\n",
              "                title=\"Suggest charts\"\n",
              "                style=\"display:none;\">\n",
              "\n",
              "<svg xmlns=\"http://www.w3.org/2000/svg\" height=\"24px\"viewBox=\"0 0 24 24\"\n",
              "     width=\"24px\">\n",
              "    <g>\n",
              "        <path d=\"M19 3H5c-1.1 0-2 .9-2 2v14c0 1.1.9 2 2 2h14c1.1 0 2-.9 2-2V5c0-1.1-.9-2-2-2zM9 17H7v-7h2v7zm4 0h-2V7h2v10zm4 0h-2v-4h2v4z\"/>\n",
              "    </g>\n",
              "</svg>\n",
              "      </button>\n",
              "\n",
              "<style>\n",
              "  .colab-df-quickchart {\n",
              "      --bg-color: #E8F0FE;\n",
              "      --fill-color: #1967D2;\n",
              "      --hover-bg-color: #E2EBFA;\n",
              "      --hover-fill-color: #174EA6;\n",
              "      --disabled-fill-color: #AAA;\n",
              "      --disabled-bg-color: #DDD;\n",
              "  }\n",
              "\n",
              "  [theme=dark] .colab-df-quickchart {\n",
              "      --bg-color: #3B4455;\n",
              "      --fill-color: #D2E3FC;\n",
              "      --hover-bg-color: #434B5C;\n",
              "      --hover-fill-color: #FFFFFF;\n",
              "      --disabled-bg-color: #3B4455;\n",
              "      --disabled-fill-color: #666;\n",
              "  }\n",
              "\n",
              "  .colab-df-quickchart {\n",
              "    background-color: var(--bg-color);\n",
              "    border: none;\n",
              "    border-radius: 50%;\n",
              "    cursor: pointer;\n",
              "    display: none;\n",
              "    fill: var(--fill-color);\n",
              "    height: 32px;\n",
              "    padding: 0;\n",
              "    width: 32px;\n",
              "  }\n",
              "\n",
              "  .colab-df-quickchart:hover {\n",
              "    background-color: var(--hover-bg-color);\n",
              "    box-shadow: 0 1px 2px rgba(60, 64, 67, 0.3), 0 1px 3px 1px rgba(60, 64, 67, 0.15);\n",
              "    fill: var(--button-hover-fill-color);\n",
              "  }\n",
              "\n",
              "  .colab-df-quickchart-complete:disabled,\n",
              "  .colab-df-quickchart-complete:disabled:hover {\n",
              "    background-color: var(--disabled-bg-color);\n",
              "    fill: var(--disabled-fill-color);\n",
              "    box-shadow: none;\n",
              "  }\n",
              "\n",
              "  .colab-df-spinner {\n",
              "    border: 2px solid var(--fill-color);\n",
              "    border-color: transparent;\n",
              "    border-bottom-color: var(--fill-color);\n",
              "    animation:\n",
              "      spin 1s steps(1) infinite;\n",
              "  }\n",
              "\n",
              "  @keyframes spin {\n",
              "    0% {\n",
              "      border-color: transparent;\n",
              "      border-bottom-color: var(--fill-color);\n",
              "      border-left-color: var(--fill-color);\n",
              "    }\n",
              "    20% {\n",
              "      border-color: transparent;\n",
              "      border-left-color: var(--fill-color);\n",
              "      border-top-color: var(--fill-color);\n",
              "    }\n",
              "    30% {\n",
              "      border-color: transparent;\n",
              "      border-left-color: var(--fill-color);\n",
              "      border-top-color: var(--fill-color);\n",
              "      border-right-color: var(--fill-color);\n",
              "    }\n",
              "    40% {\n",
              "      border-color: transparent;\n",
              "      border-right-color: var(--fill-color);\n",
              "      border-top-color: var(--fill-color);\n",
              "    }\n",
              "    60% {\n",
              "      border-color: transparent;\n",
              "      border-right-color: var(--fill-color);\n",
              "    }\n",
              "    80% {\n",
              "      border-color: transparent;\n",
              "      border-right-color: var(--fill-color);\n",
              "      border-bottom-color: var(--fill-color);\n",
              "    }\n",
              "    90% {\n",
              "      border-color: transparent;\n",
              "      border-bottom-color: var(--fill-color);\n",
              "    }\n",
              "  }\n",
              "</style>\n",
              "\n",
              "      <script>\n",
              "        async function quickchart(key) {\n",
              "          const quickchartButtonEl =\n",
              "            document.querySelector('#' + key + ' button');\n",
              "          quickchartButtonEl.disabled = true;  // To prevent multiple clicks.\n",
              "          quickchartButtonEl.classList.add('colab-df-spinner');\n",
              "          try {\n",
              "            const charts = await google.colab.kernel.invokeFunction(\n",
              "                'suggestCharts', [key], {});\n",
              "          } catch (error) {\n",
              "            console.error('Error during call to suggestCharts:', error);\n",
              "          }\n",
              "          quickchartButtonEl.classList.remove('colab-df-spinner');\n",
              "          quickchartButtonEl.classList.add('colab-df-quickchart-complete');\n",
              "        }\n",
              "        (() => {\n",
              "          let quickchartButtonEl =\n",
              "            document.querySelector('#df-a91feb89-0b2b-4ef0-b9a6-fc15451b3b22 button');\n",
              "          quickchartButtonEl.style.display =\n",
              "            google.colab.kernel.accessAllowed ? 'block' : 'none';\n",
              "        })();\n",
              "      </script>\n",
              "    </div>\n",
              "\n",
              "    </div>\n",
              "  </div>\n"
            ],
            "application/vnd.google.colaboratory.intrinsic+json": {
              "type": "dataframe",
              "summary": "{\n  \"name\": \"submission_capped\",\n  \"rows\": 8,\n  \"fields\": [\n    {\n      \"column\": \"semana\",\n      \"properties\": {\n        \"dtype\": \"number\",\n        \"std\": 530329.1053256625,\n        \"min\": 1.0,\n        \"max\": 1500000.0,\n        \"num_unique_values\": 7,\n        \"samples\": [\n          1500000.0,\n          3.0,\n          4.0\n        ],\n        \"semantic_type\": \"\",\n        \"description\": \"\"\n      }\n    },\n    {\n      \"column\": \"pdv\",\n      \"properties\": {\n        \"dtype\": \"number\",\n        \"std\": 3.246582716155968e+18,\n        \"min\": 1500000.0,\n        \"max\": 9.222989681472728e+18,\n        \"num_unique_values\": 8,\n        \"samples\": [\n          4.665102712965629e+18,\n          4.689504269991078e+18,\n          1500000.0\n        ],\n        \"semantic_type\": \"\",\n        \"description\": \"\"\n      }\n    },\n    {\n      \"column\": \"produto\",\n      \"properties\": {\n        \"dtype\": \"number\",\n        \"std\": 3.210986842474412e+18,\n        \"min\": 1500000.0,\n        \"max\": 9.221123418603952e+18,\n        \"num_unique_values\": 8,\n        \"samples\": [\n          4.3669817450984346e+18,\n          4.1018341150700764e+18,\n          1500000.0\n        ],\n        \"semantic_type\": \"\",\n        \"description\": \"\"\n      }\n    },\n    {\n      \"column\": \"quantidade\",\n      \"properties\": {\n        \"dtype\": \"number\",\n        \"std\": 530263.8277733207,\n        \"min\": 1.0,\n        \"max\": 1500000.0,\n        \"num_unique_values\": 8,\n        \"samples\": [\n          7.751807333333334,\n          4.0,\n          1500000.0\n        ],\n        \"semantic_type\": \"\",\n        \"description\": \"\"\n      }\n    }\n  ]\n}"
            }
          },
          "metadata": {},
          "execution_count": 32
        }
      ]
    },
    {
      "cell_type": "code",
      "source": [],
      "metadata": {
        "id": "3VlbE4P5PmQy"
      },
      "execution_count": null,
      "outputs": []
    }
  ]
}